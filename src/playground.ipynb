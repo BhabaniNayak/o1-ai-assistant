{
 "cells": [
  {
   "cell_type": "code",
   "execution_count": 1,
   "metadata": {},
   "outputs": [],
   "source": [
    "import os\n",
    "from typing import Literal, List\n",
    "from pydantic import BaseModel\n",
    "import tiktoken\n",
    "import PyPDF2\n",
    "from docx import Document\n",
    "import re\n",
    "from openai import OpenAI\n",
    "import json\n"
   ]
  },
  {
   "cell_type": "code",
   "execution_count": 13,
   "metadata": {},
   "outputs": [],
   "source": [
    "os.environ[\"OPENAI_API_KEY\"] = \"add_your_key\""
   ]
  },
  {
   "cell_type": "code",
   "execution_count": 3,
   "metadata": {},
   "outputs": [],
   "source": [
    "class CriterionAnalysis(BaseModel):\n",
    "    criterion: str\n",
    "    achievements: List[str]\n",
    "    explanation: str\n",
    "\n",
    "class OutputSchema(BaseModel):\n",
    "    criteria_analysis: List[CriterionAnalysis]\n",
    "    overall_summary: str\n",
    "    rating: Literal['low', 'medium', 'high']\n",
    "    \n",
    "class CandidateCV(BaseModel):\n",
    "    cv:str"
   ]
  },
  {
   "cell_type": "code",
   "execution_count": 36,
   "metadata": {},
   "outputs": [],
   "source": [
    "# helper functions\n",
    "def read_cv(file_path: str) -> str:\n",
    "    _, file_extension = os.path.splitext(file_path)\n",
    "    \n",
    "    if file_extension.lower() == '.pdf':\n",
    "        with open(file_path, 'rb') as file:\n",
    "            reader = PyPDF2.PdfReader(file)\n",
    "            text = ' '.join(page.extract_text() for page in reader.pages)\n",
    "    \n",
    "    elif file_extension.lower() in ['.docx', '.doc']:\n",
    "        doc = Document(file_path)\n",
    "        text = ' '.join(paragraph.text for paragraph in doc.paragraphs)\n",
    "    \n",
    "    else:\n",
    "        raise ValueError(\"Unsupported file format\")\n",
    "    \n",
    "    # Clean up the text\n",
    "    text = re.sub(r'\\s+', ' ', text)  # Replace multiple spaces with single space\n",
    "    text = re.sub(r'\\n+', '\\n', text)  # Replace multiple newlines with single newline\n",
    "    text = text.strip()  # Remove leading/trailing whitespace\n",
    "    \n",
    "    return text\n",
    "\n",
    "\n",
    "\n",
    "def num_tokens_from_string(string: str, encoding_name: str = \"cl100k_base\") -> int:\n",
    "    \"\"\"Returns the number of tokens in a text string.\"\"\"\n",
    "    encoding = tiktoken.get_encoding(encoding_name)\n",
    "    num_tokens = len(encoding.encode(string))\n",
    "    return num_tokens\n",
    "\n",
    "def parse_and_format_output(output):\n",
    "    if isinstance(output, dict):\n",
    "        # Already structured JSON\n",
    "        data = output\n",
    "    else:\n",
    "        # Try to extract JSON from string\n",
    "        json_match = re.search(r'```json\\n(.*?)\\n```', output, re.DOTALL)\n",
    "        if json_match:\n",
    "            try:\n",
    "                data = json.loads(json_match.group(1))\n",
    "            except json.JSONDecodeError:\n",
    "                print(\"Error: Unable to parse JSON content.\")\n",
    "                print(\"Raw content:\")\n",
    "                print(output)\n",
    "                return\n",
    "        else:\n",
    "            print(\"No JSON content found. Raw output:\")\n",
    "            print(output)\n",
    "            return\n",
    "\n",
    "    # Format and print the output\n",
    "    try:\n",
    "        print(\"Criteria Analysis:\")\n",
    "        for analysis in data['criteria_analysis']:\n",
    "            print(f\"\\n{analysis['criterion']}:\")\n",
    "            if analysis['achievements']:\n",
    "                print(\"  Achievements:\")\n",
    "                for achievement in analysis['achievements']:\n",
    "                    print(f\"    - {achievement}\")\n",
    "            else:\n",
    "                print(\"  No specific achievements listed.\")\n",
    "            print(f\"  Explanation: {analysis['explanation']}\")\n",
    "        \n",
    "        print(f\"\\nOverall Summary: {data['overall_summary']}\")\n",
    "        print(f\"Rating: {data['rating'].capitalize()}\")\n",
    "    except KeyError as e:\n",
    "        print(f\"Error: Missing expected key in data structure: {e}\")\n",
    "        print(\"Raw content:\")\n",
    "        print(json.dumps(data, indent=2))\n"
   ]
  },
  {
   "cell_type": "code",
   "execution_count": 5,
   "metadata": {},
   "outputs": [],
   "source": [
    "file_path = \"/Users/bnayak/Downloads/CV_BN_08.pdf\"  # or \"path/to/your/cv.docx\"\n",
    "cv_text = read_cv(file_path)\n",
    "candidate_cv = CandidateCV(cv=cv_text)"
   ]
  },
  {
   "cell_type": "code",
   "execution_count": 7,
   "metadata": {},
   "outputs": [],
   "source": [
    "prompt = f\"\"\"\n",
    "You are an immigration expert evaluating candidates for O-1A Visa eligibility. An O-1A visa is granted to individuals with extraordinary ability in sciences, education, business, or athletics (excluding arts, motion pictures, or television industry).\n",
    "\n",
    "Given a candidate's CV and 8 criteria, your tasks are:\n",
    "1) Match the candidate's achievements to each of the 8 O-1A criteria.\n",
    "2) Rate the candidate's overall chances of O-1A visa qualification.\n",
    "\n",
    "For each criterion, provide:\n",
    "- Relevant achievements from the CV\n",
    "- A brief explanation of how these achievements relate to the criterion\n",
    "\n",
    "Use the following rating scale:\n",
    "- Low: Meets 0-2 criteria convincingly\n",
    "- Medium: Meets 3-4 criteria convincingly\n",
    "- High: Meets 5 or more criteria convincingly\n",
    "\n",
    "Output your analysis in this JSON structure:\n",
    "{OutputSchema.model_dump_json(mode='json_schema') if hasattr(OutputSchema, 'model_dump_json') else OutputSchema.schema_json()}\n",
    "\n",
    "The 8 criteria are:\n",
    "<Criterions>\n",
    "<Awards> Documentation of the beneficiary’s receipt of nationally or internationally recognized prizes or awards for excellence in the field of endeavor.</Awards>\n",
    "<Membership> Documentation of the beneficiary’s membership in associations in the field for which classification is sought, which require outstanding achievements of their members, as judged by recognized national or international experts in their disciplines or fields.</Membership>\n",
    "<Press> Published material in professional or major trade publications or major media about the beneficiary, relating to the beneficiary's work in the field for which classification is sought. This evidence must include the title, date, and author of such published material and any necessary translation.</Press>\n",
    "<Judging> Evidence of the beneficiary's participation on a panel, or individually, as a judge of the work of others in the same or in an allied field of specialization for which classification is sought. </Judging>\n",
    "<Original Contribution> Evidence of the beneficiary's original scientific, scholarly, or business-related contributions of major significance in the field.</Original Contribution>\n",
    "<Scholarly Articles> Evidence of the beneficiary's authorship of scholarly articles in the field, in professional journals, or other major media.</Scholarly Articles>\n",
    "<Critical Employment> Evidence that the beneficiary has been employed in a critical or essential capacity for organizations and establishments that have a distinguished reputation. </Critical Employment>\n",
    "<High Remuneration>\tEvidence that the beneficiary has either commanded a high salary or will command a high salary or other remuneration for services as evidenced by contracts or other reliable evidence.</High Remuneration>\n",
    "</Criterions>\n",
    "\n",
    "Candidate's CV:\n",
    "<candidate_cv>\n",
    "{candidate_cv.cv}\n",
    "</candidate_cv>\n",
    "\n",
    "Analyze the CV thoroughly and provide your evaluation based on these criteria.\n",
    "\n",
    "\"\"\".strip()"
   ]
  },
  {
   "cell_type": "code",
   "execution_count": 8,
   "metadata": {},
   "outputs": [
    {
     "name": "stdout",
     "output_type": "stream",
     "text": [
      "The prompt contains 2482 tokens.\n"
     ]
    }
   ],
   "source": [
    "token_count = num_tokens_from_string(prompt)\n",
    "print(f\"The prompt contains {token_count} tokens.\")"
   ]
  },
  {
   "cell_type": "code",
   "execution_count": null,
   "metadata": {},
   "outputs": [],
   "source": [
    "print(prompt)"
   ]
  },
  {
   "cell_type": "code",
   "execution_count": 14,
   "metadata": {},
   "outputs": [],
   "source": [
    "# Set your OpenAI API key\n",
    "client = OpenAI(api_key=os.getenv(\"OPENAI_API_KEY\"))\n"
   ]
  },
  {
   "cell_type": "code",
   "execution_count": 30,
   "metadata": {},
   "outputs": [],
   "source": [
    "def call_openai_api(prompt: str, model: str = \"gpt-4o-mini\") -> dict:\n",
    "    try:\n",
    "        response = client.chat.completions.create(\n",
    "            model=model,\n",
    "            messages=[\n",
    "                {\"role\": \"system\", \"content\": \"You are an expert immigration consultant.\"},\n",
    "                {\"role\": \"user\", \"content\": prompt}\n",
    "            ],\n",
    "            temperature=0.7,\n",
    "            max_tokens=2000\n",
    "        )\n",
    "        content = response.choices[0].message.content\n",
    "        \n",
    "        try:\n",
    "            return json.loads(content)\n",
    "        except json.JSONDecodeError:\n",
    "            print(\"Warning: The API response was not valid JSON. Returning raw content.\")\n",
    "            return content\n",
    "    except Exception as e:\n",
    "        print(f\"An error occurred: {str(e)}\")\n",
    "        return None\n"
   ]
  },
  {
   "cell_type": "code",
   "execution_count": 31,
   "metadata": {},
   "outputs": [
    {
     "name": "stdout",
     "output_type": "stream",
     "text": [
      "Warning: The API response was not valid JSON. Returning raw content.\n"
     ]
    }
   ],
   "source": [
    "# Use the function\n",
    "result = call_openai_api(prompt)"
   ]
  },
  {
   "cell_type": "code",
   "execution_count": 37,
   "metadata": {},
   "outputs": [
    {
     "name": "stdout",
     "output_type": "stream",
     "text": [
      "Criteria Analysis:\n",
      "\n",
      "Awards:\n",
      "  Achievements:\n",
      "    - AI Patent 'WO2021237019A1' - Environmental Adjustment using AI (Published)\n",
      "    - Gartner Data & Analytics Excellence Awards\n",
      "  Explanation: The candidate has received a patent for an AI invention and has also been recognized with a prestigious award in the field of Data & Analytics, indicating excellence and innovation.\n",
      "\n",
      "Membership:\n",
      "  No specific achievements listed.\n",
      "  Explanation: There is no documentation provided in the CV indicating membership in associations requiring outstanding achievements.\n",
      "\n",
      "Press:\n",
      "  No specific achievements listed.\n",
      "  Explanation: The CV does not mention any published material or media coverage relating to the candidate's work in the field.\n",
      "\n",
      "Judging:\n",
      "  No specific achievements listed.\n",
      "  Explanation: There is no evidence of the candidate participating as a judge in any relevant panels or competitions.\n",
      "\n",
      "Original Contribution:\n",
      "  Achievements:\n",
      "    - Developed and designed an in-house Gen AI Agentic framework for creating AI agents\n",
      "    - Fine tuned embedder model to improve search relevancy\n",
      "    - Developed a CNN model that reduced the number of inside sensors needed by 20%\n",
      "  Explanation: The candidate has made significant original contributions to the field, particularly in developing new frameworks and improving existing models, which have a considerable impact on efficiency and effectiveness.\n",
      "\n",
      "Scholarly Articles:\n",
      "  No specific achievements listed.\n",
      "  Explanation: No evidence of the candidate authoring scholarly articles in professional journals or major media is presented in the CV.\n",
      "\n",
      "Critical Employment:\n",
      "  Achievements:\n",
      "    - Lead (Founding) AI Engineer at Connectly.AI\n",
      "    - Lead AI/ML Engineer at Shopify\n",
      "    - Lead ML Engineer at Twitter\n",
      "  Explanation: The candidate has held critical positions in highly reputable organizations, indicating that they are in essential roles that contribute significantly to their success.\n",
      "\n",
      "High Remuneration:\n",
      "  No specific achievements listed.\n",
      "  Explanation: There are no specific details regarding the candidate's salary or evidence of high remuneration for their services.\n",
      "\n",
      "Overall Summary: The candidate has demonstrated extraordinary ability through several significant achievements, particularly in the areas of awards, original contributions, and critical employment roles. However, they lack evidence in several other criteria such as membership in associations, press coverage, judging, scholarly articles, and high remuneration. This suggests that while the candidate is strong in certain areas, there are gaps in their overall profile for O-1A visa eligibility.\n",
      "Rating: Medium\n"
     ]
    }
   ],
   "source": [
    "if result:\n",
    "    parse_and_format_output(result)"
   ]
  }
 ],
 "metadata": {
  "kernelspec": {
   "display_name": "be",
   "language": "python",
   "name": "python3"
  },
  "language_info": {
   "codemirror_mode": {
    "name": "ipython",
    "version": 3
   },
   "file_extension": ".py",
   "mimetype": "text/x-python",
   "name": "python",
   "nbconvert_exporter": "python",
   "pygments_lexer": "ipython3",
   "version": "3.11.4"
  }
 },
 "nbformat": 4,
 "nbformat_minor": 2
}
