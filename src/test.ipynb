{
 "cells": [
  {
   "cell_type": "code",
   "execution_count": 13,
   "metadata": {},
   "outputs": [],
   "source": [
    "import os\n",
    "import sys\n",
    "\n",
    "os.environ[\"OPENAI_API_KEY\"] = \"\""
   ]
  },
  {
   "cell_type": "code",
   "execution_count": 28,
   "metadata": {},
   "outputs": [],
   "source": [
    "current_dir = os.getcwd()\n",
    "parent_dir = os.path.dirname(current_dir)\n",
    "sys.path.append(parent_dir)"
   ]
  },
  {
   "cell_type": "code",
   "execution_count": 29,
   "metadata": {},
   "outputs": [],
   "source": [
    "# Import necessary modules\n",
    "import asyncio\n",
    "from fastapi.testclient import TestClient\n",
    "from main import app\n",
    "from utilities import Utilities\n",
    "from openai_client import OpenAIClient"
   ]
  },
  {
   "cell_type": "code",
   "execution_count": 30,
   "metadata": {},
   "outputs": [],
   "source": [
    "# Create instances of classes\n",
    "utilities = Utilities()\n",
    "openai_client = OpenAIClient()"
   ]
  },
  {
   "cell_type": "code",
   "execution_count": 31,
   "metadata": {},
   "outputs": [],
   "source": [
    "# Create a test client\n",
    "client = TestClient(app)"
   ]
  },
  {
   "cell_type": "code",
   "execution_count": 32,
   "metadata": {},
   "outputs": [
    {
     "name": "stderr",
     "output_type": "stream",
     "text": [
      "/Users/bnayak/anaconda3/envs/test-o1-assisatant/lib/python3.9/typing.py:274: RuntimeWarning: coroutine 'FastAPI.__call__' was never awaited\n",
      "  return cached(*args, **kwds)\n",
      "RuntimeWarning: Enable tracemalloc to get the object allocation traceback\n"
     ]
    },
    {
     "name": "stdout",
     "output_type": "stream",
     "text": [
      "BHABANI N | San Francisco Bay Area | 408.623.5417 | bnayak.usa@gmail.com -------------------------------------------------------------------------------------------------------------------------------------------- A seasoned AI/ML professional with two decades of total experience in building end-to-end AI/ML products across verticals (Supply Chain, Ecommerce, Social Media & Digital Content, Healthcare, Airline and Automotive). Demonstrated leadership and mentoring skills in leading and hiring hi\n"
     ]
    }
   ],
   "source": [
    "# Test reading a CV\n",
    "def test_read_cv():\n",
    "    cv_path = \"/Users/bnayak/Downloads/CV_BN_08.pdf\"\n",
    "    cv_text = utilities.read_cv(cv_path)\n",
    "    print(cv_text[:500])  # Print first 500 characters\n",
    "\n",
    "test_read_cv()"
   ]
  },
  {
   "cell_type": "code",
   "execution_count": 18,
   "metadata": {},
   "outputs": [
    {
     "name": "stdout",
     "output_type": "stream",
     "text": [
      "You are an immigration expert evaluating candidates for O-1A Visa eligibility. An O-1A visa is granted to individuals with extraordinary ability in sciences, education, business, or athletics (excluding arts, motion pictures, or television industry).\n",
      "\n",
      "        Given a candidate's CV and 8 criteria, your tasks are:\n",
      "        1) Match the candidate's achievements to each of the 8 O-1A criteria.\n",
      "        2) Rate the candidate's overall chances of O-1A visa qualification.\n",
      "\n",
      "        For each criterion, provide:\n",
      "        - Relevant achievements from the CV\n",
      "        - A brief explanation of how these achievements relate to the criterion\n",
      "\n",
      "        Use the following rating scale:\n",
      "        - Low: Meets 0-2 criteria convincingly\n",
      "- Medium: Meets 3-4 criteria convincingly\n",
      "- High: Meets 5 or more criteria convincingly\n",
      "\n",
      "        Output your analysis in this JSON structure:\n",
      "        {'title': 'OutputSchema', 'type': 'object', 'properties': {'criteria_analysis': {'title': 'Criteria Analysis', 'type': 'array', 'items': {'$ref': '#/definitions/CriterionAnalysis'}}, 'overall_summary': {'title': 'Overall Summary', 'type': 'string'}, 'rating': {'title': 'Rating', 'type': 'string'}}, 'required': ['criteria_analysis', 'overall_summary', 'rating'], 'definitions': {'CriterionAnalysis': {'title': 'CriterionAnalysis', 'type': 'object', 'properties': {'criterion': {'title': 'Criterion', 'type': 'string'}, 'achievements': {'title': 'Achievements', 'type': 'array', 'items': {'type': 'string'}}, 'explanation': {'title': 'Explanation', 'type': 'string'}}, 'required': ['criterion', 'achievements', 'explanation']}}}\n",
      "\n",
      "        The 8 criteria are:\n",
      "        <Criterions>\n",
      "        <Awards>Documentation of the beneficiary's receipt of nationally or internationally recognized prizes or awards for excellence in the field of endeavor.</Awards>\n",
      "<Membership>Documentation of the beneficiary's membership in associations in the field for which classification is sought, which require outstanding achievements of their members, as judged by recognized national or international experts in their disciplines or fields.</Membership>\n",
      "<Press>Published material in professional or major trade publications or major media about the beneficiary, relating to the beneficiary's work in the field for which classification is sought. This evidence must include the title, date, and author of such published material and any necessary translation.</Press>\n",
      "<Judging>Evidence of the beneficiary's participation on a panel, or individually, as a judge of the work of others in the same or in an allied field of specialization for which classification is sought.</Judging>\n",
      "<Original Contribution>Evidence of the beneficiary's original scientific, scholarly, or business-related contributions of major significance in the field.</Original Contribution>\n",
      "<Scholarly Articles>Evidence of the beneficiary's authorship of scholarly articles in the field, in professional journals, or other major media.</Scholarly Articles>\n",
      "<Critical Employment>Evidence that the beneficiary has been employed in a critical or essential capacity for organizations and establishments that have a distinguished reputation.</Critical Employment>\n",
      "<High Remuneration>Evidence that the beneficiary has either commanded a high salary or will command a high salary or other remuneration for services as evidenced by contracts or other reliable evidence.</High Remuneration>\n",
      "        </Criterions>\n",
      "\n",
      "        Candidate's CV:\n",
      "        <candidate_cv>\n",
      "        A seasoned AI/ML professional with two decades of total experience...\n",
      "        </candidate_cv>\n",
      "\n",
      "        Analyze the CV thoroughly and provide your evaluation based on these criteria.\n"
     ]
    }
   ],
   "source": [
    "# Test generating a prompt\n",
    "def test_generate_prompt():\n",
    "    cv_text = \"A seasoned AI/ML professional with two decades of total experience...\"\n",
    "    prompt = utilities.generate_prompt(cv_text)\n",
    "    print(prompt)\n",
    "\n",
    "test_generate_prompt()"
   ]
  },
  {
   "cell_type": "code",
   "execution_count": 23,
   "metadata": {},
   "outputs": [
    {
     "name": "stderr",
     "output_type": "stream",
     "text": [
      "INFO:httpx:HTTP Request: POST https://api.openai.com/v1/chat/completions \"HTTP/1.1 200 OK\"\n"
     ]
    },
    {
     "name": "stdout",
     "output_type": "stream",
     "text": [
      "Mars is often referred to as the \"Red Planet\" due to its reddish appearance, which is primarily caused by iron oxide (rust) on its surface. However, the color of Mars can vary in different regions; some areas may appear more brown, orange, or even yellowish. The planet's surface features, such as dust storms and variations in mineral composition, can also affect its coloration.\n"
     ]
    }
   ],
   "source": [
    "# Test OpenAI API call\n",
    "async def test_openai_api():\n",
    "    prompt = \"What is the color of mars\"\n",
    "    result = await openai_client.call_openai_api(prompt)\n",
    "    print(result)\n",
    "\n",
    "await test_openai_api()"
   ]
  },
  {
   "cell_type": "code",
   "execution_count": null,
   "metadata": {},
   "outputs": [],
   "source": [
    "import os\n",
    "import json\n",
    "import subprocess\n",
    "\n",
    "def test_analyze_cv():\n",
    "    url = \"http://localhost:8001/analyze-cv/\"\n",
    "    file_path = \"/Users/bnayak/Downloads/CV_BN_08.pdf\"\n",
    "    \n",
    "    if not os.path.exists(file_path) or os.path.getsize(file_path) == 0:\n",
    "        print(f\"Error: File does not exist or is empty: {file_path}\")\n",
    "        return\n",
    "    \n",
    "    print(f\"File size: {os.path.getsize(file_path)} bytes\")\n",
    "    \n",
    "    # Prepare the JSON payload\n",
    "    payload = json.dumps({\"file_path\": file_path})\n",
    "    \n",
    "    # Construct the curl command\n",
    "    curl_command = [\n",
    "        'curl', '-v', '-X', 'POST', url,\n",
    "        '-H', 'Content-Type: application/json',\n",
    "        '-d', payload\n",
    "    ]\n",
    "    \n",
    "    # Run the curl command and capture the output\n",
    "    try:\n",
    "        result = subprocess.run(curl_command, capture_output=True, text=True, check=True)\n",
    "        print(\"Curl command output:\")\n",
    "        print(result.stdout)\n",
    "        print(\"\\nCurl command error output:\")\n",
    "        print(result.stderr)\n",
    "    except subprocess.CalledProcessError as e:\n",
    "        print(f\"Error executing curl command: {e}\")\n",
    "        print(\"Error output:\")\n",
    "        print(e.stderr)\n",
    "\n",
    "# Run the test function\n",
    "test_analyze_cv()"
   ]
  }
 ],
 "metadata": {
  "kernelspec": {
   "display_name": "be",
   "language": "python",
   "name": "python3"
  },
  "language_info": {
   "codemirror_mode": {
    "name": "ipython",
    "version": 3
   },
   "file_extension": ".py",
   "mimetype": "text/x-python",
   "name": "python",
   "nbconvert_exporter": "python",
   "pygments_lexer": "ipython3",
   "version": "3.9.19"
  }
 },
 "nbformat": 4,
 "nbformat_minor": 2
}
